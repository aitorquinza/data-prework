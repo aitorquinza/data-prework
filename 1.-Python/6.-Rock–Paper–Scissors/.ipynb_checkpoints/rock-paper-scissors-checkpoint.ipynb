{
 "cells": [
  {
   "cell_type": "markdown",
   "metadata": {},
   "source": [
    "<img src=\"https://bit.ly/2VnXWr2\" width=\"100\" align=\"left\">"
   ]
  },
  {
   "cell_type": "markdown",
   "metadata": {},
   "source": [
    "# Rock, Paper & Scissors\n",
    "\n",
    "Let's play the famous game against our computer. You can check the rules [here](https://en.wikipedia.org/wiki/Rock%E2%80%93paper%E2%80%93scissors). \n",
    "\n",
    "## Task\n",
    "Create a program that imitates the playability of the well known game of rock, paper, scissors. Follow the guidelines provided.\n",
    "\n",
    "## Tools\n",
    "1. Loop: **for/while**\n",
    "2. Functions: **input(), print()...**\n",
    "3. Conditional statements: **if, elif, else**\n",
    "4. Definition of functions. Modular programming\n",
    "5. Import modules\n",
    "\n",
    "**To solve this challenge, the use of functions is recommended.**\n",
    "\n",
    "#### 1. Import the choice function of the random module."
   ]
  },
  {
   "cell_type": "code",
   "execution_count": 1,
   "metadata": {},
   "outputs": [],
   "source": [
    "import random"
   ]
  },
  {
   "cell_type": "markdown",
   "metadata": {},
   "source": [
    "#### 2. Create a list that includes the 3 possible gesture options of the game: 'rock', 'paper' or 'scissors'. Store the list in a variable called `gestures`."
   ]
  },
  {
   "cell_type": "code",
   "execution_count": 2,
   "metadata": {},
   "outputs": [],
   "source": [
    "gestures = ['rock', 'paper', 'scissors']"
   ]
  },
  {
   "cell_type": "markdown",
   "metadata": {},
   "source": [
    "#### 3. Create a variable called `n_rounds` to store the maximum number of rounds to play in a game. \n",
    "Remember that the number of rounds must be odd: 1, 3, 5, ..."
   ]
  },
  {
   "cell_type": "code",
   "execution_count": 3,
   "metadata": {},
   "outputs": [
    {
     "name": "stdout",
     "output_type": "stream",
     "text": [
      "9\n"
     ]
    }
   ],
   "source": [
    "n_rounds = random.randrange(1,10,2)\n",
    "print(n_rounds)"
   ]
  },
  {
   "cell_type": "markdown",
   "metadata": {},
   "source": [
    "#### 4. Create a variable called `rounds_to_win` to store the number of rounds that a player must win to win the game.\n",
    "**Hint**: the value stored in `rounds_to_win` depends on the value of `n_rounds`. "
   ]
  },
  {
   "cell_type": "code",
   "execution_count": 4,
   "metadata": {},
   "outputs": [],
   "source": [
    "rounds_to_win = (n_rounds / 2) + 1"
   ]
  },
  {
   "cell_type": "markdown",
   "metadata": {},
   "source": [
    "#### 5. Create two variables to store the number of rounds that the computer and the player have won. Call these variables `cpu_score` and `player_score`."
   ]
  },
  {
   "cell_type": "code",
   "execution_count": 5,
   "metadata": {},
   "outputs": [],
   "source": [
    "cpu_score = 0\n",
    "player_score = 0"
   ]
  },
  {
   "cell_type": "markdown",
   "metadata": {},
   "source": [
    "#### 6. Define a function that randomly returns one of the 3 gesture options.\n",
    "You will use this function to simulate the gesture choice of the computer. "
   ]
  },
  {
   "cell_type": "code",
   "execution_count": 6,
   "metadata": {},
   "outputs": [],
   "source": [
    "def computer_hand():\n",
    "    \n",
    "    return random.choice( gestures )"
   ]
  },
  {
   "cell_type": "markdown",
   "metadata": {},
   "source": [
    "#### 7. Define a function that asks the player which is the gesture he or she wants to show: 'rock', 'paper' or 'scissors'.\n",
    "The player should only be allowed to choose one of the 3 gesture options. If the player's choice is not rock, paper or scissors, keep asking until it is."
   ]
  },
  {
   "cell_type": "code",
   "execution_count": 7,
   "metadata": {},
   "outputs": [],
   "source": [
    "def player_hand():\n",
    "    your_hand = 0\n",
    "    while your_hand == 0 or your_hand > 3:\n",
    "        if your_hand != 1 and your_hand != 2 and your_hand != 3:\n",
    "            your_hand = int(input(\"Which gesture do you want? 1 - Rock, 2 - Paper, 3 - Scissors: \\n\"))\n",
    "\n",
    "    if your_hand == 1:\n",
    "        your_hand = 'rock'\n",
    "    elif your_hand == 2:\n",
    "        your_hand = 'paper'\n",
    "    else:\n",
    "        your_hand = 'scissors'\n",
    "\n",
    "    return your_hand"
   ]
  },
  {
   "cell_type": "markdown",
   "metadata": {},
   "source": [
    "#### 8. Define a function that checks who won a round. \n",
    "The function should return 0 if there is a tie, 1 if the computer wins and 2 if the player wins."
   ]
  },
  {
   "cell_type": "code",
   "execution_count": 8,
   "metadata": {},
   "outputs": [],
   "source": [
    "def winner(compu , player):\n",
    "    who_win = {'rock' : 'scissors', 'paper' : 'rock', 'scissors' : 'paper'}\n",
    "    if compu == player:\n",
    "        result = 0\n",
    "    elif compu in who_win:\n",
    "        result = 1\n",
    "    else:\n",
    "        result = 2\n",
    "\n",
    "    return result"
   ]
  },
  {
   "cell_type": "markdown",
   "metadata": {},
   "source": [
    "#### 9. Define a function that prints the choice of the computer, the choice of the player and a message that announces who won the current round. \n",
    "You should also use this function to update the variables that count the number of rounds that the computer and the player have won. The score of the winner increases by one point. If there is a tie, the score does not increase."
   ]
  },
  {
   "cell_type": "code",
   "execution_count": 9,
   "metadata": {},
   "outputs": [],
   "source": [
    "def choices(computer_hand, player_hand): \n",
    "    if winner(computer_hand, player_hand) == 0:\n",
    "        matchwinner = \"Ties\"   \n",
    "    elif winner(computer_hand, player_hand) == 1:\n",
    "        matchwinner = \"Computer won\"\n",
    "    else:\n",
    "        matchwinner = \"Player won\"\n",
    "\n",
    "    print(f'The computer choiced {computer_hand} \\nThe user choided {player_hand} \\nand the result was {matchwinner}')\n"
   ]
  },
  {
   "cell_type": "markdown",
   "metadata": {},
   "source": [
    "#### 10. Now it's time to code the execution of the game using the functions and variables you defined above. \n",
    "\n",
    "First, create a loop structure that repeats while no player reaches the minimum score necessary to win and the number of rounds is less than the maximum number of rounds to play in a game.  \n",
    "\n",
    "Inside the loop, use the functions and variables above to create the execution of a round: ask for the player's choice, generate the random choice of the computer, show the round results, update the scores, etc. "
   ]
  },
  {
   "cell_type": "code",
   "execution_count": null,
   "metadata": {},
   "outputs": [],
   "source": [
    "counter = 0\n",
    "while counter < n_rounds and cpu_score < rounds_to_win or player_score < rounds_to_win:\n",
    "    choices(computer_hand(), player_hand())\n",
    "\n",
    "    if winner(computer_hand, player_hand) == 1:\n",
    "        cpu_score += 1\n",
    "    elif winner(computer_hand, player_hand) == 2:\n",
    "        player_score += 1\n",
    "    \n",
    "    counter += 1\n",
    "\n"
   ]
  },
  {
   "cell_type": "markdown",
   "metadata": {},
   "source": [
    "#### 11. Print the winner of the game based on who won more rounds.\n",
    "Remember that the game might be tied. "
   ]
  },
  {
   "cell_type": "code",
   "execution_count": null,
   "metadata": {},
   "outputs": [],
   "source": [
    "if cpu_score > player_score:\n",
    "    print('The winner of this match is the COMPUTER')\n",
    "elif player_score > cpu_score:\n",
    "    print('The winner of this match is the PLAYER')\n",
    "else:\n",
    "    print('It was a hard match, but it finally finished with a draw')"
   ]
  },
  {
   "cell_type": "markdown",
   "metadata": {},
   "source": [
    "# Bonus: Rock, Paper, Scissors, Lizard & Spock\n",
    "![](images/rpsls.jpg)\n",
    "\n",
    "In this challenge, you need to improve the previous game by adding two new options. To know more about the rules of the improved version of rock, paper, scissors, check this [link](http://www.samkass.com/theories/RPSSL.html). \n",
    "\n",
    "In addition, you will also need to improve how the game interacts with the player: the number of rounds to play, which must be an odd number, will be requested to the user until a valid number is entered. Define a new function to make that request.\n",
    "\n",
    "**Hint**: Try to reuse the code that you already coded in the previous challenge. If your code is efficient, this bonus will only consist of simple modifications to the original game."
   ]
  },
  {
   "cell_type": "code",
   "execution_count": null,
   "metadata": {},
   "outputs": [],
   "source": [
    "import random\n",
    "\n",
    "gestures = ['rock','paper','scissors','lizard','spock']\n",
    "\n",
    "n_rounds = random.randrange(1,10,2)\n",
    "\n",
    "print(n_rounds)\n",
    "\n",
    "rounds_to_win = (n_rounds / 2) + 1\n",
    "\n",
    "cpu_score = 0\n",
    "player_score = 0\n",
    "\n",
    "def computer_hand():\n",
    "    \n",
    "    return random.choice( gestures )\n",
    "\n",
    "def player_hand():\n",
    "    your_hand = 0\n",
    "    while your_hand == 0 or your_hand > 3:\n",
    "        if your_hand != 1 and your_hand != 2 and your_hand != 3:\n",
    "            your_hand = int(input(\"Which gesture do you want? 1 - Rock, 2 - Paper, 3 - Scissors: \\n\"))\n",
    "\n",
    "    if your_hand == 1:\n",
    "        your_hand = 'rock'\n",
    "    elif your_hand == 2:\n",
    "        your_hand = 'paper'\n",
    "    else:\n",
    "        your_hand = 'scissors'\n",
    "\n",
    "    return your_hand\n",
    "\n",
    "def winner(compu , player):\n",
    "    who_win = {'rock':['scissors','lizard'], 'paper':['rock','spock'], 'scissors':['paper','lizard'], 'lizard':['spock','paper'],'spock':['rock','scissors']}\n",
    "    if compu == player:\n",
    "        result = 0\n",
    "    elif compu in who_win:\n",
    "        result = 1\n",
    "    else:\n",
    "        result = 2\n",
    "\n",
    "    return result\n",
    "\n",
    "\n",
    "\n",
    "def choices(computer_hand, player_hand): \n",
    "    if winner(computer_hand, player_hand) == 0:\n",
    "        matchwinner = \"Ties\"   \n",
    "    elif winner(computer_hand, player_hand) == 1:\n",
    "        matchwinner = \"Computer won\"\n",
    "    else:\n",
    "        matchwinner = \"Player won\"\n",
    "\n",
    "    print(f'The computer choiced {computer_hand} \\nThe user choided {player_hand} \\nand the result was {matchwinner}')\n",
    "\n",
    "\n",
    "counter = 0\n",
    "while counter < n_rounds and cpu_score < rounds_to_win or player_score < rounds_to_win:\n",
    "    choices(computer_hand(), player_hand())\n",
    "\n",
    "    if winner(computer_hand, player_hand) == 1:\n",
    "        cpu_score += 1\n",
    "    elif winner(computer_hand, player_hand) == 2:\n",
    "        player_score += 1\n",
    "    \n",
    "    counter += 1\n",
    "\n",
    "print(f'{cpu_score}, {}')\n",
    "if cpu_score > player_score:\n",
    "    print('The winner of this match is the COMPUTER')\n",
    "elif player_score > cpu_score:\n",
    "    print('The winner of this match is the PLAYER')\n",
    "else:\n",
    "    print('It was a hard match, but it finally finished with a draw')"
   ]
  }
 ],
 "metadata": {
  "kernelspec": {
   "display_name": "Python 3",
   "language": "python",
   "name": "python3"
  },
  "language_info": {
   "codemirror_mode": {
    "name": "ipython",
    "version": 3
   },
   "file_extension": ".py",
   "mimetype": "text/x-python",
   "name": "python",
   "nbconvert_exporter": "python",
   "pygments_lexer": "ipython3",
   "version": "3.7.6"
  }
 },
 "nbformat": 4,
 "nbformat_minor": 2
}
